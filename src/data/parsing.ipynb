{
 "cells": [
  {
   "cell_type": "code",
   "execution_count": null,
   "id": "c74bb630-8dd9-4011-a1e3-62135f37c884",
   "metadata": {},
   "outputs": [],
   "source": [
    "! pip install beautifulsoup4 requests selenium"
   ]
  },
  {
   "cell_type": "code",
   "execution_count": 82,
   "id": "f989d59d-6e2c-4ab7-a15e-7ae41413d62c",
   "metadata": {},
   "outputs": [],
   "source": [
    "from bs4 import BeautifulSoup\n",
    "from selenium import webdriver\n",
    "from selenium.webdriver.chrome.options import Options\n",
    "import requests"
   ]
  },
  {
   "cell_type": "code",
   "execution_count": 88,
   "id": "5e687e49-a8b0-400b-978b-e296926cc6a3",
   "metadata": {},
   "outputs": [],
   "source": [
    "options = webdriver.ChromeOptions()\n",
    "options.add_argument('headless')"
   ]
  },
  {
   "cell_type": "code",
   "execution_count": 71,
   "id": "5589f2f8-adeb-407e-9fa2-0b5fe5cd240e",
   "metadata": {},
   "outputs": [],
   "source": [
    "url = 'https://mig.kz/'"
   ]
  },
  {
   "cell_type": "code",
   "execution_count": 72,
   "id": "cf9cfe9f-0693-44f1-ba29-45f0ae464382",
   "metadata": {},
   "outputs": [],
   "source": [
    "page = requests.get(url)"
   ]
  },
  {
   "cell_type": "code",
   "execution_count": 73,
   "id": "fec06b14-0c2d-496d-a983-fe9fbe64845e",
   "metadata": {},
   "outputs": [],
   "source": [
    "soup = BeautifulSoup(page.text, \"html.parser\")"
   ]
  },
  {
   "cell_type": "code",
   "execution_count": 74,
   "id": "e54d6647-0569-4d10-9160-89c25275643d",
   "metadata": {},
   "outputs": [],
   "source": [
    "buys_all = [float(d.text) for d in soup.find_all('td', 'buy delta-neutral')]"
   ]
  },
  {
   "cell_type": "code",
   "execution_count": 75,
   "id": "75196767-0a5f-4f17-b359-c1b5378cbcf5",
   "metadata": {},
   "outputs": [],
   "source": [
    "sells_all =  [float(d.text) for d in soup.find_all('td', 'sell delta-neutral')]"
   ]
  },
  {
   "cell_type": "code",
   "execution_count": 77,
   "id": "dbec7aad-c98b-4b0b-81fa-18d2a62b1226",
   "metadata": {},
   "outputs": [],
   "source": [
    "currency = [d.text for d in soup.find_all('td', 'currency')]"
   ]
  },
  {
   "cell_type": "code",
   "execution_count": 78,
   "id": "590d4115-ebb4-4115-947d-565efa24d4c8",
   "metadata": {},
   "outputs": [],
   "source": [
    "final = list(zip(buys_all, sells_all, currency))"
   ]
  },
  {
   "cell_type": "code",
   "execution_count": 79,
   "id": "b3ff20ae-9da5-4bf7-b6ea-750c30f4e273",
   "metadata": {},
   "outputs": [
    {
     "data": {
      "text/plain": [
       "[(500.3, 503.3, 'USD'),\n",
       " (521.0, 525.0, 'EUR'),\n",
       " (5.45, 5.59, 'RUB'),\n",
       " (5.55, 6.15, 'KGS'),\n",
       " (625.0, 645.0, 'GBP'),\n",
       " (69.3, 73.5, 'CNY'),\n",
       " (45750.0, 48650.0, 'GOLD')]"
      ]
     },
     "execution_count": 79,
     "metadata": {},
     "output_type": "execute_result"
    }
   ],
   "source": [
    "final"
   ]
  },
  {
   "cell_type": "code",
   "execution_count": 94,
   "id": "f77bcbce-62ae-4d45-86aa-706e0703f781",
   "metadata": {},
   "outputs": [],
   "source": [
    "driver = webdriver.Chrome(options=options)\n",
    "driver.get(\"https://kurs.kz\")\n",
    "html = driver.page_source\n",
    "soup = BeautifulSoup(html, \"html.parser\")\n",
    "driver.close()"
   ]
  },
  {
   "cell_type": "code",
   "execution_count": 119,
   "id": "c2920e01-c51b-4840-aad2-65910c2eb6f7",
   "metadata": {},
   "outputs": [],
   "source": [
    "def get_kurs_kz(title: str):\n",
    "    all_currency = list()\n",
    "    avg_sell, avg_buy = None, None\n",
    "    for d in soup.find_all(title = title):\n",
    "        try:\n",
    "            val = float(d.text)\n",
    "            if val > 0:\n",
    "                all_currency.append(val)\n",
    "        except ValueError:\n",
    "            avg_sell, avg_buy = [float(v) for v in d.text.split(' — ')]\n",
    "    return min(all_currency), max(all_currency), avg_sell, avg_buy"
   ]
  },
  {
   "cell_type": "code",
   "execution_count": 120,
   "id": "c8fe2663-28db-4ad8-bf06-bbcee44b1cbc",
   "metadata": {},
   "outputs": [],
   "source": [
    "min_buy, max_buy, avg_sell, avg_buy = get_kurs_kz('EUR - покупка')"
   ]
  },
  {
   "cell_type": "code",
   "execution_count": 121,
   "id": "39a1a3fe-0016-486d-982a-654657919be7",
   "metadata": {},
   "outputs": [
    {
     "data": {
      "text/plain": [
       "(515.0, 522.0, 520.72, 524.85)"
      ]
     },
     "execution_count": 121,
     "metadata": {},
     "output_type": "execute_result"
    }
   ],
   "source": [
    "min_buy, max_buy, avg_sell, avg_buy"
   ]
  },
  {
   "cell_type": "code",
   "execution_count": null,
   "id": "a1928cf7-3f55-4f85-8e4f-dd1257d90439",
   "metadata": {},
   "outputs": [],
   "source": []
  },
  {
   "cell_type": "code",
   "execution_count": null,
   "id": "e57ea5ea-a37e-490a-9901-7bde9716d28e",
   "metadata": {},
   "outputs": [],
   "source": []
  },
  {
   "cell_type": "code",
   "execution_count": null,
   "id": "a07be632-a295-41a5-b71b-9610099cb3ee",
   "metadata": {},
   "outputs": [],
   "source": [
    "https://data.nationalbank.kz/api/rss/latest-exchange-rates"
   ]
  },
  {
   "cell_type": "code",
   "execution_count": null,
   "id": "08f5d0ce-cff3-4e4d-8e15-f509980a8f24",
   "metadata": {},
   "outputs": [],
   "source": [
    "'USD - покупка'\n",
    "'USD - продажа'\n",
    "'EUR - покупка'\n",
    "'EUR - продажа'\n",
    "'RUB - покупка'\n",
    "'RUB - продажа'"
   ]
  }
 ],
 "metadata": {
  "kernelspec": {
   "display_name": "Python 3 (ipykernel)",
   "language": "python",
   "name": "python3"
  },
  "language_info": {
   "codemirror_mode": {
    "name": "ipython",
    "version": 3
   },
   "file_extension": ".py",
   "mimetype": "text/x-python",
   "name": "python",
   "nbconvert_exporter": "python",
   "pygments_lexer": "ipython3",
   "version": "3.13.0"
  }
 },
 "nbformat": 4,
 "nbformat_minor": 5
}
