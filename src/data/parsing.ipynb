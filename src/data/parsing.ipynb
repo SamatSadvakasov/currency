{
 "cells": [
  {
   "cell_type": "code",
   "execution_count": null,
   "id": "c74bb630-8dd9-4011-a1e3-62135f37c884",
   "metadata": {},
   "outputs": [],
   "source": [
    "! pip install beautifulsoup4 requests selenium"
   ]
  },
  {
   "cell_type": "code",
   "execution_count": 82,
   "id": "f989d59d-6e2c-4ab7-a15e-7ae41413d62c",
   "metadata": {},
   "outputs": [],
   "source": [
    "from bs4 import BeautifulSoup\n",
    "from selenium import webdriver\n",
    "from selenium.webdriver.chrome.options import Options\n",
    "import requests"
   ]
  },
  {
   "cell_type": "code",
   "execution_count": 88,
   "id": "5e687e49-a8b0-400b-978b-e296926cc6a3",
   "metadata": {},
   "outputs": [],
   "source": [
    "options = webdriver.ChromeOptions()\n",
    "options.add_argument('headless')"
   ]
  },
  {
   "cell_type": "code",
   "execution_count": 71,
   "id": "5589f2f8-adeb-407e-9fa2-0b5fe5cd240e",
   "metadata": {},
   "outputs": [],
   "source": [
    "url = 'https://mig.kz/'"
   ]
  },
  {
   "cell_type": "code",
   "execution_count": 72,
   "id": "cf9cfe9f-0693-44f1-ba29-45f0ae464382",
   "metadata": {},
   "outputs": [],
   "source": [
    "page = requests.get(url)"
   ]
  },
  {
   "cell_type": "code",
   "execution_count": 73,
   "id": "fec06b14-0c2d-496d-a983-fe9fbe64845e",
   "metadata": {},
   "outputs": [],
   "source": [
    "soup = BeautifulSoup(page.text, \"html.parser\")"
   ]
  },
  {
   "cell_type": "code",
   "execution_count": 74,
   "id": "e54d6647-0569-4d10-9160-89c25275643d",
   "metadata": {},
   "outputs": [],
   "source": [
    "buys_all = [float(d.text) for d in soup.find_all('td', 'buy delta-neutral')]"
   ]
  },
  {
   "cell_type": "code",
   "execution_count": 75,
   "id": "75196767-0a5f-4f17-b359-c1b5378cbcf5",
   "metadata": {},
   "outputs": [],
   "source": [
    "sells_all =  [float(d.text) for d in soup.find_all('td', 'sell delta-neutral')]"
   ]
  },
  {
   "cell_type": "code",
   "execution_count": 77,
   "id": "dbec7aad-c98b-4b0b-81fa-18d2a62b1226",
   "metadata": {},
   "outputs": [],
   "source": [
    "currency = [d.text for d in soup.find_all('td', 'currency')]"
   ]
  },
  {
   "cell_type": "code",
   "execution_count": 78,
   "id": "590d4115-ebb4-4115-947d-565efa24d4c8",
   "metadata": {},
   "outputs": [],
   "source": [
    "final = list(zip(buys_all, sells_all, currency))"
   ]
  },
  {
   "cell_type": "code",
   "execution_count": 79,
   "id": "b3ff20ae-9da5-4bf7-b6ea-750c30f4e273",
   "metadata": {},
   "outputs": [
    {
     "data": {
      "text/plain": [
       "[(500.3, 503.3, 'USD'),\n",
       " (521.0, 525.0, 'EUR'),\n",
       " (5.45, 5.59, 'RUB'),\n",
       " (5.55, 6.15, 'KGS'),\n",
       " (625.0, 645.0, 'GBP'),\n",
       " (69.3, 73.5, 'CNY'),\n",
       " (45750.0, 48650.0, 'GOLD')]"
      ]
     },
     "execution_count": 79,
     "metadata": {},
     "output_type": "execute_result"
    }
   ],
   "source": [
    "final"
   ]
  },
  {
   "cell_type": "code",
   "execution_count": 89,
   "id": "f77bcbce-62ae-4d45-86aa-706e0703f781",
   "metadata": {},
   "outputs": [],
   "source": [
    "driver = webdriver.Chrome(options=options)\n",
    "driver.get(\"https://kurs.kz\")\n",
    "html = driver.page_source\n",
    "soup = BeautifulSoup(html, \"html.parser\")\n",
    "driver.close()"
   ]
  },
  {
   "cell_type": "code",
   "execution_count": 90,
   "id": "c2920e01-c51b-4840-aad2-65910c2eb6f7",
   "metadata": {},
   "outputs": [],
   "source": [
    "buys_all = list()\n",
    "for d in soup.find_all(title = 'USD - покупка'):\n",
    "    try:\n",
    "        buys_all.append(float(d.text))\n",
    "    except ValueError:\n",
    "        pass"
   ]
  },
  {
   "cell_type": "code",
   "execution_count": 91,
   "id": "8f8cd8b5-502b-4b39-b7f9-588c1a7d36b6",
   "metadata": {},
   "outputs": [],
   "source": [
    "sells_all =  [float(d.text) for d in soup.find_all(title = 'USD - продажа')]"
   ]
  },
  {
   "cell_type": "code",
   "execution_count": 92,
   "id": "281fe219-9f18-412f-86e3-fdad61e8016b",
   "metadata": {},
   "outputs": [
    {
     "data": {
      "text/plain": [
       "(495.0, 501.2, 499.8, 503.5)"
      ]
     },
     "execution_count": 92,
     "metadata": {},
     "output_type": "execute_result"
    }
   ],
   "source": [
    "min(buys_all), max(buys_all), min(sells_all), max(sells_all)"
   ]
  },
  {
   "cell_type": "code",
   "execution_count": null,
   "id": "a7c4ab5c-4189-40bb-b876-aeb12676d50c",
   "metadata": {},
   "outputs": [],
   "source": []
  }
 ],
 "metadata": {
  "kernelspec": {
   "display_name": "Python 3 (ipykernel)",
   "language": "python",
   "name": "python3"
  },
  "language_info": {
   "codemirror_mode": {
    "name": "ipython",
    "version": 3
   },
   "file_extension": ".py",
   "mimetype": "text/x-python",
   "name": "python",
   "nbconvert_exporter": "python",
   "pygments_lexer": "ipython3",
   "version": "3.13.0"
  }
 },
 "nbformat": 4,
 "nbformat_minor": 5
}
